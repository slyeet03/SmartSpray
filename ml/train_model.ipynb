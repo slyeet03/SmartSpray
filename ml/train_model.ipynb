{
 "cells": [
  {
   "cell_type": "code",
   "execution_count": null,
   "id": "1cff20d6",
   "metadata": {},
   "outputs": [],
   "source": [
    "\"\"\"\n",
    "File: train_model.ipynb\n",
    "Author: We Can't Code\n",
    "GitHub: https://github.com/slyeet03/SmartSpray\n",
    "\"\"\""
   ]
  },
  {
   "cell_type": "code",
   "execution_count": null,
   "id": "2e20fd60",
   "metadata": {},
   "outputs": [],
   "source": [
    "import tensorflow as tf\n",
    "import numpy as np\n",
    "import matplotlib.pyplot as plt\n",
    "import os\n",
    "import cv2\n",
    "import random"
   ]
  },
  {
   "cell_type": "code",
   "execution_count": null,
   "id": "5ad567b6",
   "metadata": {},
   "outputs": [],
   "source": [
    "TRAIN_DIR=\"archive/train/\" # download https://www.kaggle.com/datasets/ashishmotwani/tomato and add the path to the training images"
   ]
  },
  {
   "cell_type": "markdown",
   "id": "c5f88b04",
   "metadata": {},
   "source": [
    "# Initialize TensorBoard"
   ]
  },
  {
   "cell_type": "code",
   "execution_count": null,
   "id": "bc6cf91f",
   "metadata": {},
   "outputs": [],
   "source": [
    "tsb=tf.keras.callbacks.TensorBoard(log_dir=\"logs\")"
   ]
  },
  {
   "cell_type": "markdown",
   "id": "8d66b835",
   "metadata": {},
   "source": [
    "# Create string labels"
   ]
  },
  {
   "cell_type": "code",
   "execution_count": null,
   "id": "0e52df2f",
   "metadata": {},
   "outputs": [],
   "source": [
    "classes = [i for i in os.listdir(TRAIN_DIR) if os.path.isdir(os.path.join(TRAIN_DIR, i))]"
   ]
  },
  {
   "cell_type": "markdown",
   "id": "9093073d",
   "metadata": {},
   "source": [
    "# Create the training dataset"
   ]
  },
  {
   "cell_type": "code",
   "execution_count": null,
   "id": "0ade28cf",
   "metadata": {},
   "outputs": [],
   "source": [
    "train=[]\n",
    "for i in os.listdir(TRAIN_DIR):\n",
    "    current_path=os.path.join(TRAIN_DIR,i)\n",
    "    current_class=classes.index(i)\n",
    "    for j in os.listdir(current_path):\n",
    "        try:\n",
    "            img = cv2.imread(os.path.join(TRAIN_DIR, i, j), cv2.IMREAD_COLOR)  \n",
    "            img = cv2.cvtColor(img, cv2.COLOR_BGR2RGB)  # Convert from BGR (OpenCV default) to RGB\n",
    "            img = cv2.resize(img, (210,210))\n",
    "\n",
    "        except:\n",
    "            continue\n",
    "        train.append([img,current_class])\n",
    "random.shuffle(train)\n",
    "x=[]\n",
    "y=[]\n",
    "for i,j in train:\n",
    "    x.append(i)\n",
    "    y.append(j)\n",
    "x = np.array(x)/255.0\n",
    "y = np.array(y)\n",
    "print(f\"Total Train Images : {len(x)}\")"
   ]
  },
  {
   "cell_type": "markdown",
   "id": "a471be20",
   "metadata": {},
   "source": [
    "# Create model"
   ]
  },
  {
   "cell_type": "code",
   "execution_count": null,
   "id": "9315da9f",
   "metadata": {},
   "outputs": [],
   "source": [
    "model=tf.keras.models.Sequential([\n",
    "    tf.keras.layers.Conv2D(64,(3,3),activation=tf.nn.relu,input_shape=(210,210,3)), # input 70x70 grayscale image\n",
    "    tf.keras.layers.MaxPooling2D(),\n",
    "    tf.keras.layers.Conv2D(64,(3,3),activation=tf.nn.relu),\n",
    "    tf.keras.layers.MaxPooling2D(),\n",
    "    tf.keras.layers.Conv2D(64,(3,3),activation=tf.nn.relu),\n",
    "    tf.keras.layers.MaxPooling2D(),\n",
    "    tf.keras.layers.Flatten(),\n",
    "    tf.keras.layers.Dense(512,activation=tf.nn.relu),\n",
    "    tf.keras.layers.Dropout(0.25),\n",
    "    tf.keras.layers.Dense(256,activation=tf.nn.relu),\n",
    "    tf.keras.layers.Dense(len(classes),activation=tf.nn.softmax)\n",
    "])"
   ]
  },
  {
   "cell_type": "markdown",
   "id": "0d4d13ec",
   "metadata": {},
   "source": [
    "# Get summary of the model"
   ]
  },
  {
   "cell_type": "code",
   "execution_count": null,
   "id": "6e5955e8",
   "metadata": {},
   "outputs": [],
   "source": [
    "model.summary()"
   ]
  },
  {
   "cell_type": "markdown",
   "id": "94d83b8b",
   "metadata": {},
   "source": [
    "# Compile the model"
   ]
  },
  {
   "cell_type": "code",
   "execution_count": null,
   "id": "3458033f",
   "metadata": {},
   "outputs": [],
   "source": [
    "model.compile(optimizer=\"adam\",loss=\"sparse_categorical_crossentropy\",metrics=[\"accuracy\"])"
   ]
  },
  {
   "cell_type": "markdown",
   "id": "e728c738",
   "metadata": {},
   "source": [
    "# Train the model"
   ]
  },
  {
   "cell_type": "code",
   "execution_count": null,
   "id": "ad7f604b",
   "metadata": {},
   "outputs": [],
   "source": [
    "history=model.fit(x,y,epochs=100,callbacks=[tsb],validation_split=0.1)"
   ]
  },
  {
   "cell_type": "markdown",
   "id": "9d8db0a1",
   "metadata": {},
   "source": [
    "# Accuracy graph"
   ]
  },
  {
   "cell_type": "code",
   "execution_count": null,
   "id": "5f70c754",
   "metadata": {},
   "outputs": [],
   "source": [
    "plt.plot(history.history[\"accuracy\"])\n",
    "plt.plot(history.history[\"val_accuracy\"])\n",
    "plt.title(\"Model Accuracy\")\n",
    "plt.ylabel(\"Accuracy\")\n",
    "plt.xlabel(\"Epoch\")\n",
    "plt.legend([\"Train\",\"Validation\"],loc=\"best\")"
   ]
  },
  {
   "cell_type": "markdown",
   "id": "e40d059e",
   "metadata": {},
   "source": [
    "# Loss graph"
   ]
  },
  {
   "cell_type": "code",
   "execution_count": null,
   "id": "edfd1803",
   "metadata": {},
   "outputs": [],
   "source": [
    "plt.plot(history.history[\"loss\"])\n",
    "plt.plot(history.history[\"val_loss\"])\n",
    "plt.title(\"Model Loss\")\n",
    "plt.ylabel(\"Loss\")\n",
    "plt.xlabel(\"Epoch\")\n",
    "plt.legend([\"Train\",\"Validation\"],loc=\"best\")"
   ]
  },
  {
   "cell_type": "markdown",
   "id": "f9537b35",
   "metadata": {},
   "source": [
    "# Predict on images"
   ]
  },
  {
   "cell_type": "code",
   "execution_count": null,
   "id": "0e8a8506",
   "metadata": {},
   "outputs": [],
   "source": [
    "def prepare(filepath):\n",
    "    img = cv2.imread(filepath, cv2.IMREAD_COLOR)\n",
    "    img = cv2.cvtColor(img, cv2.COLOR_BGR2RGB)\n",
    "    img = cv2.resize(img, (210,210))\n",
    "    return img.reshape(-1,210,210,3) / 255.0"
   ]
  },
  {
   "cell_type": "code",
   "execution_count": null,
   "id": "82595f67",
   "metadata": {},
   "outputs": [],
   "source": [
    "TEST_DIR = \"test/\"\n",
    "\n",
    "for img_name in os.listdir(TEST_DIR):\n",
    "    img_path = os.path.join(TEST_DIR, img_name)\n",
    "    \n",
    "    try:\n",
    "        prediction = model.predict(prepare(img_path))\n",
    "        predicted_class = classes[int(np.argmax(prediction))]\n",
    "      \n",
    "        print(f\"Image: {img_name} --> Predicted Class: {predicted_class}\")\n",
    "        \n",
    "        plt.imshow(plt.imread(img_path))\n",
    "        plt.title(predicted_class)\n",
    "        plt.axis(\"off\")\n",
    "        plt.show()\n",
    "    except Exception as e:\n",
    "        print(f\"Could not process {img_name}: {e}\")\n"
   ]
  },
  {
   "cell_type": "markdown",
   "id": "d1be6d55",
   "metadata": {},
   "source": [
    "# Save the model"
   ]
  },
  {
   "cell_type": "code",
   "execution_count": null,
   "id": "acf40098",
   "metadata": {},
   "outputs": [],
   "source": [
    "model.save(\"64x3-tomato_leaves.h5\")"
   ]
  },
  {
   "cell_type": "markdown",
   "id": "3b2d125e",
   "metadata": {},
   "source": [
    "# Covert model to TFLite model for edge devices"
   ]
  },
  {
   "cell_type": "code",
   "execution_count": null,
   "id": "6a5588e0",
   "metadata": {},
   "outputs": [],
   "source": [
    "tf_lite_converter=tf.lite.TFLiteConverter.from_keras_model(model)\n",
    "with open(\"64x3-tomato_leaves.tflite\",\"wb\") as f:\n",
    "    f.write(tf_lite_converter.convert())"
   ]
  }
 ],
 "metadata": {
  "kernelspec": {
   "display_name": "Python 3",
   "language": "python",
   "name": "python3"
  },
  "language_info": {
   "codemirror_mode": {
    "name": "ipython",
    "version": 3
   },
   "file_extension": ".py",
   "mimetype": "text/x-python",
   "name": "python",
   "nbconvert_exporter": "python",
   "pygments_lexer": "ipython3",
   "version": "3.12.7"
  }
 },
 "nbformat": 4,
 "nbformat_minor": 5
}
